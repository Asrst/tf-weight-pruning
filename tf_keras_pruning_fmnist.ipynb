{
 "cells": [
  {
   "cell_type": "code",
   "execution_count": 1,
   "metadata": {
    "_cell_guid": "b1076dfc-b9ad-4769-8c92-a6c4dae69d19",
    "_uuid": "8f2839f25d086af736a60e9eeb907d3b93b6e0e5"
   },
   "outputs": [
    {
     "name": "stdout",
     "output_type": "stream",
     "text": [
      "2.1.0-rc0\n"
     ]
    }
   ],
   "source": [
    "import numpy as np # linear algebra\n",
    "import pandas as pd # data processing, CSV file I/O (e.g. pd.read_csv)\n",
    "import tensorflow as tf\n",
    "from tensorflow import keras\n",
    "import os\n",
    "\n",
    "BASE_PATH = \"/kaggle/input\"\n",
    "print(tf.__version__)"
   ]
  },
  {
   "cell_type": "markdown",
   "metadata": {},
   "source": [
    "### Train Fashion mnist model"
   ]
  },
  {
   "cell_type": "code",
   "execution_count": 2,
   "metadata": {
    "_cell_guid": "79c7e3d0-c299-4dcb-8224-4455121ee9b0",
    "_uuid": "d629ff2d2480ee46fbb7e2d37f6b5fab8052498a"
   },
   "outputs": [
    {
     "name": "stdout",
     "output_type": "stream",
     "text": [
      "Downloading data from https://storage.googleapis.com/tensorflow/tf-keras-datasets/train-labels-idx1-ubyte.gz\n",
      "32768/29515 [=================================] - 0s 0us/step\n",
      "Downloading data from https://storage.googleapis.com/tensorflow/tf-keras-datasets/train-images-idx3-ubyte.gz\n",
      "26427392/26421880 [==============================] - 0s 0us/step\n",
      "Downloading data from https://storage.googleapis.com/tensorflow/tf-keras-datasets/t10k-labels-idx1-ubyte.gz\n",
      "8192/5148 [===============================================] - 0s 0us/step\n",
      "Downloading data from https://storage.googleapis.com/tensorflow/tf-keras-datasets/t10k-images-idx3-ubyte.gz\n",
      "4423680/4422102 [==============================] - 0s 0us/step\n"
     ]
    },
    {
     "data": {
      "text/plain": [
       "((60000, 28, 28), (60000,), (10000, 28, 28), (10000,))"
      ]
     },
     "execution_count": 2,
     "metadata": {},
     "output_type": "execute_result"
    }
   ],
   "source": [
    "(X_train, y_train), (X_val, y_val) = keras.datasets.fashion_mnist.load_data()\n",
    "X_train.shape, y_train.shape, X_val.shape, y_val.shape"
   ]
  },
  {
   "cell_type": "code",
   "execution_count": 4,
   "metadata": {},
   "outputs": [],
   "source": [
    "rows = 28\n",
    "cols = 28\n",
    "input_shape = (rows*cols,)\n",
    "X_train = X_train.reshape(len(X_train), rows*cols)\n",
    "X_val = X_val.reshape(len(X_val), rows*cols)"
   ]
  },
  {
   "cell_type": "code",
   "execution_count": 5,
   "metadata": {},
   "outputs": [],
   "source": [
    "def normalize_data(x, y, n_classes = 10):\n",
    "    \"\"\"\n",
    "    function is normalize image data by dividing by 255\n",
    "    & convert its label into one hot encoding\n",
    "    \n",
    "    Args\n",
    "    --------\n",
    "    x: array with batch of images\n",
    "    y: corresponding labels of images (intergers)\n",
    "    n_classes: number of classes\n",
    "    \n",
    "    Returns\n",
    "    ---------\n",
    "    tuple (normalized x, one-hot encoded y)\n",
    "    \n",
    "    \"\"\"\n",
    "    x = x/255.0\n",
    "    y = tf.one_hot(y, depth=n_classes)\n",
    "    return x, y\n",
    "\n",
    "X_train, y_train = normalize_data(X_train, y_train)\n",
    "X_val, y_val = normalize_data(X_val, y_val)"
   ]
  },
  {
   "cell_type": "code",
   "execution_count": 6,
   "metadata": {},
   "outputs": [],
   "source": [
    "from tensorflow.keras import layers\n",
    "num_classes = 10\n",
    "\n",
    "fmnist_model = tf.keras.Sequential([\n",
    "    layers.Dense(1000, input_shape=input_shape),\n",
    "    layers.Dense(1000, activation='relu'),\n",
    "    layers.Dropout(0.2),\n",
    "    layers.Dense(500, activation='relu'),\n",
    "    layers.Dropout(0.2),\n",
    "    layers.Dense(200, activation='relu'),\n",
    "    layers.Dense(num_classes, activation='softmax')])"
   ]
  },
  {
   "cell_type": "code",
   "execution_count": 9,
   "metadata": {},
   "outputs": [],
   "source": [
    "from tensorflow.keras.callbacks import *\n",
    "\n",
    "# to log results\n",
    "csv_logger = CSVLogger('training_results.csv')\n",
    "\n",
    "# model checkpoint\n",
    "WORK_PATH = \"/kaggle/working\"\n",
    "ORG_WEIGHTS = os.path.join(WORK_PATH, 'original.h5')\n",
    "checkpoint = ModelCheckpoint(ORG_WEIGHTS, monitor='val_loss', verbose = 0,\n",
    "                             save_best_only=1,mode='min')\n",
    "\n",
    "# early_stopping\n",
    "early_stop = EarlyStopping(monitor='val_loss', min_delta=1e-2, \n",
    "              patience=5, mode='auto',restore_best_weights=1)\n",
    "\n",
    "# reduce LR on plateau\n",
    "lr_reduce = ReduceLROnPlateau(monitor='val_loss', mode='min', verbose = 0,\n",
    "                               factor = 0.5, patience = 3, min_lr = 1e-5)\n",
    "\n",
    "# compile the model\n",
    "fmnist_model.compile(loss=tf.keras.losses.categorical_crossentropy,\n",
    "              optimizer='adam',\n",
    "              metrics=['accuracy'])"
   ]
  },
  {
   "cell_type": "code",
   "execution_count": 10,
   "metadata": {},
   "outputs": [
    {
     "name": "stdout",
     "output_type": "stream",
     "text": [
      "Train on 60000 samples, validate on 10000 samples\n",
      "Epoch 1/20\n",
      "60000/60000 [==============================] - 32s 541us/sample - loss: 0.5592 - accuracy: 0.8007 - val_loss: 0.5289 - val_accuracy: 0.8170\n",
      "Epoch 2/20\n",
      "60000/60000 [==============================] - 32s 535us/sample - loss: 0.4490 - accuracy: 0.8397 - val_loss: 0.4144 - val_accuracy: 0.8524\n",
      "Epoch 3/20\n",
      "60000/60000 [==============================] - 32s 531us/sample - loss: 0.4188 - accuracy: 0.8520 - val_loss: 0.4421 - val_accuracy: 0.8402\n",
      "Epoch 4/20\n",
      "60000/60000 [==============================] - 31s 520us/sample - loss: 0.3992 - accuracy: 0.8569 - val_loss: 0.4729 - val_accuracy: 0.8282\n",
      "Epoch 5/20\n",
      "60000/60000 [==============================] - 32s 531us/sample - loss: 0.3849 - accuracy: 0.8628 - val_loss: 0.4855 - val_accuracy: 0.8391\n",
      "Epoch 6/20\n",
      "60000/60000 [==============================] - 31s 524us/sample - loss: 0.3257 - accuracy: 0.8807 - val_loss: 0.3496 - val_accuracy: 0.8717\n",
      "Epoch 7/20\n",
      "60000/60000 [==============================] - 31s 525us/sample - loss: 0.3062 - accuracy: 0.8868 - val_loss: 0.3705 - val_accuracy: 0.8720\n",
      "Epoch 8/20\n",
      "60000/60000 [==============================] - 32s 529us/sample - loss: 0.3028 - accuracy: 0.8885 - val_loss: 0.3485 - val_accuracy: 0.8788\n",
      "Epoch 9/20\n",
      "60000/60000 [==============================] - 32s 538us/sample - loss: 0.2943 - accuracy: 0.8914 - val_loss: 0.3400 - val_accuracy: 0.8794\n",
      "Epoch 10/20\n",
      "60000/60000 [==============================] - 31s 524us/sample - loss: 0.2875 - accuracy: 0.8933 - val_loss: 0.3423 - val_accuracy: 0.8798\n",
      "Epoch 11/20\n",
      "60000/60000 [==============================] - 31s 524us/sample - loss: 0.2839 - accuracy: 0.8945 - val_loss: 0.3466 - val_accuracy: 0.8811\n"
     ]
    }
   ],
   "source": [
    "# fit the model\n",
    "history = fmnist_model.fit(X_train, y_train,batch_size = 32, epochs = 20,\n",
    "                 validation_data=(X_val, y_val), callbacks = [checkpoint, lr_reduce, \n",
    "                                                              early_stop, csv_logger])"
   ]
  },
  {
   "cell_type": "code",
   "execution_count": null,
   "metadata": {},
   "outputs": [],
   "source": [
    "# tf.keras.models.save_model(fmnist_model, ORG_WEIGHTS)"
   ]
  },
  {
   "cell_type": "markdown",
   "metadata": {},
   "source": [
    "### Pruning Starts Here"
   ]
  },
  {
   "cell_type": "code",
   "execution_count": 17,
   "metadata": {},
   "outputs": [],
   "source": [
    "def weight_pruning(w, s):\n",
    "    \n",
    "    \"\"\"\n",
    "    Ranks & Prunes the least absoulte (s%) values in given weight matrix\n",
    "\n",
    "    Args\n",
    "    -------\n",
    "    w: weight matrix\n",
    "    s: Sparsity level in range(0,1).  \n",
    "    \n",
    "    Returns\n",
    "    -------\n",
    "    modified weight matrix (w) with given sparsity\n",
    "    \"\"\"\n",
    "    \n",
    "    w = np.array(w)\n",
    "    # ranks from lowest to highest\n",
    "    ranks = rankdata(np.abs(w),method='dense') \n",
    "    # find the theshold for given sparsity\n",
    "    threshold = np.ceil(ranks.max() * s).astype(int)\n",
    "    # create mask to multuiply\n",
    "    mask = ranks.reshape(w.shape)\n",
    "    # set the elements in the mask\n",
    "    mask[mask <= threshold] = 0\n",
    "    mask[mask > threshold] = 1\n",
    "    # multiply the originalweights with mask to get sparse weights\n",
    "    return w*mask\n",
    "\n",
    "def neuron_pruning(w, s):\n",
    "    \n",
    "    \"\"\"\n",
    "    Ranks & Prunes the least L2 norm (s%) columns for a given weight matrix\n",
    "\n",
    "    Args\n",
    "    -------\n",
    "    w: weight matrix\n",
    "    s: Sparsity level in range(0,1).  \n",
    "    \n",
    "    Returns\n",
    "    -------\n",
    "    modified weight matrix (w) with given sparsity\n",
    "    \"\"\"\n",
    "    \n",
    "    w = np.array(w)\n",
    "    # calculate the L2 norm\n",
    "    norm = np.sqrt(np.sum(w*w, axis=0))\n",
    "    # ranks from lowest to highest\n",
    "    ranks = rankdata(norm,method='dense') \n",
    "    # find the threshold for given sparsity\n",
    "    threshold = np.ceil(ranks.max() * s).astype(int)\n",
    "    # find the indices of columns below threshold\n",
    "    zero_col_indices = np.where(ranks <= threshold)[0]\n",
    "    # set the entire columns to zero\n",
    "    w[:,zero_col_indices] = 0\n",
    "    \n",
    "    return w\n",
    "\n",
    "\n",
    "def model_pruning(file, s = .25, pruning_type = 'weight_pruning'):\n",
    "    \n",
    "    \"\"\"\n",
    "    Purnes All weights (except last\\output layer) with given purning type for a given model(.h5) file\n",
    "\n",
    "    Args\n",
    "    -------\n",
    "    file: keras model file (.h5).\n",
    "    s: Sparsity level in range(0,1).  \n",
    "    pruning_type: choose b/w ('weight_pruning','neuron_pruning')\n",
    "    \n",
    "    Returns\n",
    "    -------\n",
    "    modified model file (.h5) with given sparsity\n",
    "    \"\"\"\n",
    "    \n",
    "    for layer in list(file['model_weights'].keys())[:-1]:\n",
    "        if not layer.startswith('dropout'):\n",
    "            # get only main weights, ignore bias\n",
    "            W = file['model_weights'][layer][layer]['kernel:0']\n",
    "            # choose the purning type\n",
    "            if pruning_type == 'weight_pruning':\n",
    "                W[...] = weight_pruning(W, s = s)\n",
    "            elif pruning_type == 'neuron_pruning':\n",
    "                W[...] = neuron_pruning(W, s = s)\n",
    "            # assert the changes\n",
    "            assert(W == file['model_weights'][layer][layer]['kernel:0'])        \n",
    "    return file"
   ]
  },
  {
   "cell_type": "markdown",
   "metadata": {},
   "source": [
    "### Create Pruned models with different sparsities"
   ]
  },
  {
   "cell_type": "code",
   "execution_count": 21,
   "metadata": {},
   "outputs": [],
   "source": [
    "import shutil\n",
    "import h5py\n",
    "from scipy.stats import rankdata\n",
    "\n",
    "SW_PATH = {}\n",
    "for d in ['weight_pruning', 'neuron_pruning']:\n",
    "    dir_path = os.path.join(WORK_PATH, d)\n",
    "    SW_PATH[d] = dir_path\n",
    "    if not os.path.exists(dir_path):\n",
    "        os.makedirs(dir_path)\n",
    "\n",
    "sparsity_levels =  [0, 25, 50, 60, 70, 80, 90, 95, 97, 99]\n",
    "\n",
    "# with h5py.File(ORG_WEIGHTS,'r+') as f:\n",
    "\n",
    "for s in sparsity_levels:\n",
    "    sw_path = os.path.join(SW_PATH['weight_pruning'], \"wp_{}.h5\".format(s))\n",
    "    shutil.copyfile(ORG_WEIGHTS, sw_path)\n",
    "    f_sparse = h5py.File(sw_path, \"r+\")\n",
    "    f_sparse = model_pruning(f_sparse, s = s/100, pruning_type = 'weight_pruning')\n",
    "    f_sparse.close()\n",
    "    \n",
    "    \n",
    "for s in sparsity_levels:\n",
    "    sw_path = os.path.join(SW_PATH['neuron_pruning'], \"np_{}.h5\".format(s))\n",
    "    shutil.copyfile(ORG_WEIGHTS, sw_path)\n",
    "    f_sparse = h5py.File(sw_path, \"r+\")\n",
    "    f_sparse = model_pruning(f_sparse, s = s/100, pruning_type = 'neuron_pruning')\n",
    "    f_sparse.close()"
   ]
  },
  {
   "cell_type": "markdown",
   "metadata": {},
   "source": [
    "### Evalaute the sparse weights"
   ]
  },
  {
   "cell_type": "code",
   "execution_count": 22,
   "metadata": {},
   "outputs": [],
   "source": [
    "from pathlib import Path\n",
    "\n",
    "# get the files with their paths & sort them\n",
    "wp_files = sorted(Path(SW_PATH['weight_pruning']).rglob(\"wp*.h5\"))\n",
    "np_files = sorted(Path(SW_PATH['neuron_pruning']).rglob(\"np*.h5\"))\n",
    "\n",
    "# create a dataframe to store the results\n",
    "results_df = pd.DataFrame(data = sparsity_levels, columns = ['sparsity'])\n",
    "results_df['weight_pruning_acc'] = None\n",
    "results_df['neuron_pruning_acc'] = None\n",
    "\n",
    "# loop throught the sparse weight files & evalaute on them\n",
    "for i, f in enumerate(wp_files):\n",
    "    restored_model = tf.keras.models.load_model(f)\n",
    "    score = restored_model.evaluate(X_val, y_val, verbose=0)\n",
    "    results_df.loc[i, 'weight_pruning_acc'] = score[1]*100\n",
    "\n",
    "\n",
    "for i, f in enumerate(np_files):\n",
    "    restored_model = tf.keras.models.load_model(f)\n",
    "    score = restored_model.evaluate(X_val, y_val, verbose=0)\n",
    "    results_df.loc[i, 'neuron_pruning_acc'] = score[1]*100"
   ]
  },
  {
   "cell_type": "markdown",
   "metadata": {},
   "source": [
    "### Plot the results"
   ]
  },
  {
   "cell_type": "code",
   "execution_count": 23,
   "metadata": {},
   "outputs": [
    {
     "data": {
      "text/plain": [
       "Text(0.5, 0, 'sparsity %')"
      ]
     },
     "execution_count": 23,
     "metadata": {},
     "output_type": "execute_result"
    },
    {
     "data": {
      "image/png": "[encoded data removed]",
      "text/plain": [
       "<Figure size 432x288 with 1 Axes>"
      ]
     },
     "metadata": {
      "needs_background": "light"
     },
     "output_type": "display_data"
    }
   ],
   "source": [
    "import matplotlib.pyplot as plt\n",
    "\n",
    "# modify the index (it will be used as x-axis) & plot\n",
    "rx = results_df.set_index('sparsity').plot(figsize=(6,4))\n",
    "\n",
    "# set x & y axis labels\n",
    "rx.set_ylabel('accuracy %')\n",
    "rx.set_xlabel('sparsity %')"
   ]
  },
  {
   "cell_type": "code",
   "execution_count": 25,
   "metadata": {},
   "outputs": [],
   "source": [
    "# KerasModelPruner test\n",
    "# from tf_keras_pruning import KerasModelPurner\n",
    "# kp = KerasModelPurner(sparsity = 0.3, pruning_type = 'weight_pruning')\n",
    "# sw_path = os.path.join(\"wp_{}.h5\".format(0.3))\n",
    "# shutil.copyfile(ORG_WEIGHTS, sw_path)\n",
    "# fs = h5py.File(sw_path, \"r+\")\n",
    "# fs = kp.transform(fs)"
   ]
  },
  {
   "cell_type": "code",
   "execution_count": null,
   "metadata": {},
   "outputs": [],
   "source": []
  }
 ],
 "metadata": {
  "kernelspec": {
   "display_name": "Python 3",
   "language": "python",
   "name": "python3"
  },
  "language_info": {
   "codemirror_mode": {
    "name": "ipython",
    "version": 3
   },
   "file_extension": ".py",
   "mimetype": "text/x-python",
   "name": "python",
   "nbconvert_exporter": "python",
   "pygments_lexer": "ipython3",
   "version": "3.7.4"
  }
 },
 "nbformat": 4,
 "nbformat_minor": 1
}
